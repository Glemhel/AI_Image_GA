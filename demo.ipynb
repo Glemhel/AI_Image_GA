{
 "cells": [
  {
   "cell_type": "code",
   "execution_count": null,
   "metadata": {
    "collapsed": true
   },
   "outputs": [],
   "source": [
    "import ImageTest as imtest\n",
    "import numpy as np\n",
    "from projectConstants import *\n",
    "import toolbox\n",
    "import os"
   ]
  },
  {
   "cell_type": "code",
   "execution_count": null,
   "outputs": [],
   "source": [
    "if not os.path.exists(path_results):\n",
    "    os.makedirs(path_results)"
   ],
   "metadata": {
    "collapsed": false,
    "pycharm": {
     "name": "#%%\n"
    }
   }
  },
  {
   "cell_type": "code",
   "execution_count": null,
   "outputs": [],
   "source": [
    "population = np.array([toolbox.Chromosome() for i in range(POPULATION_SIZE)])\n",
    "print(\"ready to go\")"
   ],
   "metadata": {
    "collapsed": false,
    "pycharm": {
     "name": "#%%\n"
    }
   }
  },
  {
   "cell_type": "code",
   "execution_count": null,
   "outputs": [],
   "source": [
    "for i in range(EPOCHS):\n",
    "    # keep hall of fame unchanged\n",
    "    hof = toolbox.hall_of_fame(population)\n",
    "    # select individuals\n",
    "    offspring = toolbox.select(population, len(population) - HOF_NUMBER)\n",
    "    # perform crossover\n",
    "    for child1, child2 in zip(offspring[::2], offspring[1::2]):\n",
    "        if np.random.random() < P_CROSSOVER:\n",
    "            toolbox.crossover(child1, child2)\n",
    "            # set fitness to invalid state\n",
    "            child1.fitness_value = -1\n",
    "            child2.fitness_value = -1\n",
    "    # mutations\n",
    "    for mutant in offspring:\n",
    "        if np.random.random() < P_MUTATION:\n",
    "            toolbox.mutate(mutant)\n",
    "            mutant.fitness_value = -1\n",
    "    # recalculate fitness if needed\n",
    "    for entity in offspring:\n",
    "        if entity.fitness_value == -1:\n",
    "            entity.fitness()\n",
    "    # update population\n",
    "    population = np.concatenate((hof, offspring))\n",
    "    if i % 10 == 0:\n",
    "        imtest.save_best_individual(population, i)\n",
    "        imtest.save_population(population)\n",
    "        print(i)\n",
    "print('done.')"
   ],
   "metadata": {
    "collapsed": false,
    "pycharm": {
     "name": "#%%\n",
     "is_executing": true
    }
   }
  },
  {
   "cell_type": "code",
   "execution_count": null,
   "outputs": [],
   "source": [
    "\n"
   ],
   "metadata": {
    "collapsed": false,
    "pycharm": {
     "name": "#%%\n"
    }
   }
  }
 ],
 "metadata": {
  "kernelspec": {
   "display_name": "Python 3",
   "language": "python",
   "name": "python3"
  },
  "language_info": {
   "codemirror_mode": {
    "name": "ipython",
    "version": 2
   },
   "file_extension": ".py",
   "mimetype": "text/x-python",
   "name": "python",
   "nbconvert_exporter": "python",
   "pygments_lexer": "ipython2",
   "version": "2.7.6"
  }
 },
 "nbformat": 4,
 "nbformat_minor": 0
}